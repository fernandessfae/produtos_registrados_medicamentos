{
 "cells": [
  {
   "cell_type": "code",
   "execution_count": 1,
   "id": "85d071bf-a9a9-4037-8d5b-a912ce7525e1",
   "metadata": {},
   "outputs": [],
   "source": [
    "import pandas as pd"
   ]
  },
  {
   "cell_type": "code",
   "execution_count": 2,
   "id": "cdbf7103-180b-451d-af09-3f5910c7fecd",
   "metadata": {},
   "outputs": [
    {
     "name": "stdout",
     "output_type": "stream",
     "text": [
      "  TIPO_PRODUTO                         NOME_PRODUTO DATA_FINALIZACAO_PROCESSO  \\\n",
      "0  MEDICAMENTO      (VITAMINAS A )  +  ASSSOCIACÕES                25/04/2000   \n",
      "1  MEDICAMENTO   AC SALICILICO + AC BENZOICO + IODO                19/05/2000   \n",
      "2  MEDICAMENTO                   ALENDRONATO SODICO                04/06/2001   \n",
      "3  MEDICAMENTO                       ARNICA MONTANA                19/03/2002   \n",
      "4  MEDICAMENTO                    ARNICA MONTANA L.                01/07/2002   \n",
      "\n",
      "  CATEGORIA_REGULATORIA  NUMERO_REGISTRO_PRODUTO DATA_VENCIMENTO_REGISTRO  \\\n",
      "0               SIMILAR                104540166               01/04/2005   \n",
      "1               SIMILAR                119350001               01/05/2005   \n",
      "2               SIMILAR                100470305               01/05/2006   \n",
      "3          FITOTERÁPICO                104730021               01/03/2007   \n",
      "4          FITOTERÁPICO                131750004               01/06/2007   \n",
      "\n",
      "   NUMERO_PROCESSO                CLASSE_TERAPEUTICA  \\\n",
      "0      25000025416  VITAMINAS E SUPLEMENTOS MINERAIS   \n",
      "1      25010171858     ANTIMICOTICOS PARA USO TOPICO   \n",
      "2      25351022805   SUPRESSORES DA REABSORCAO OSSEA   \n",
      "3      25025007821              FITOTERAPICO SIMPLES   \n",
      "4      25351032631              FITOTERAPICO SIMPLES   \n",
      "\n",
      "                          EMPRESA_DETENTORA_REGISTRO SITUACAO_REGISTRO  \\\n",
      "0  60874187000184 - DAIICHI SANKYO BRASIL FARMACÊ...  CADUCO/CANCELADO   \n",
      "1  63826069000199 - LABORATORIO FLORA DA AMAZONIA...  CADUCO/CANCELADO   \n",
      "2  61286647000116 - SANDOZ DO BRASIL INDÚSTRIA FA...  CADUCO/CANCELADO   \n",
      "3          92762277000170 - VIDORA FARMACÊUTICA LTDA  CADUCO/CANCELADO   \n",
      "4  00925697000101 - LIMED LABORATORIO INDUSTRIAL ...  CADUCO/CANCELADO   \n",
      "\n",
      "  PRINCIPIO_ATIVO  \n",
      "0             NaN  \n",
      "1             NaN  \n",
      "2             NaN  \n",
      "3             NaN  \n",
      "4             NaN  \n"
     ]
    }
   ],
   "source": [
    "df: pd.DataFrame = pd.read_csv(\n",
    "    'DADOS_ABERTOS_MEDICAMENTOS.csv', encoding='latin-1', sep=';')\n",
    "print(df.head())"
   ]
  },
  {
   "cell_type": "code",
   "execution_count": 3,
   "id": "b815e8c6-d080-483d-866f-53ddb776cc86",
   "metadata": {},
   "outputs": [
    {
     "name": "stdout",
     "output_type": "stream",
     "text": [
      "<class 'pandas.core.frame.DataFrame'>\n",
      "RangeIndex: 30725 entries, 0 to 30724\n",
      "Data columns (total 11 columns):\n",
      " #   Column                      Non-Null Count  Dtype \n",
      "---  ------                      --------------  ----- \n",
      " 0   TIPO_PRODUTO                30725 non-null  object\n",
      " 1   NOME_PRODUTO                30725 non-null  object\n",
      " 2   DATA_FINALIZACAO_PROCESSO   30327 non-null  object\n",
      " 3   CATEGORIA_REGULATORIA       28848 non-null  object\n",
      " 4   NUMERO_REGISTRO_PRODUTO     30725 non-null  int64 \n",
      " 5   DATA_VENCIMENTO_REGISTRO    30110 non-null  object\n",
      " 6   NUMERO_PROCESSO             30725 non-null  int64 \n",
      " 7   CLASSE_TERAPEUTICA          30650 non-null  object\n",
      " 8   EMPRESA_DETENTORA_REGISTRO  30725 non-null  object\n",
      " 9   SITUACAO_REGISTRO           30725 non-null  object\n",
      " 10  PRINCIPIO_ATIVO             11081 non-null  object\n",
      "dtypes: int64(2), object(9)\n",
      "memory usage: 2.6+ MB\n"
     ]
    }
   ],
   "source": [
    "df.info()"
   ]
  },
  {
   "cell_type": "code",
   "execution_count": 4,
   "id": "d6ca457f-c7af-4bad-81b7-686c5f1c82f7",
   "metadata": {},
   "outputs": [
    {
     "data": {
      "text/plain": [
       "(30725, 11)"
      ]
     },
     "execution_count": 4,
     "metadata": {},
     "output_type": "execute_result"
    }
   ],
   "source": [
    "df.shape"
   ]
  },
  {
   "cell_type": "code",
   "execution_count": 5,
   "id": "894287a2-c737-4981-a366-37f000618af5",
   "metadata": {},
   "outputs": [
    {
     "data": {
      "text/plain": [
       "TIPO_PRODUTO                  object\n",
       "NOME_PRODUTO                  object\n",
       "DATA_FINALIZACAO_PROCESSO     object\n",
       "CATEGORIA_REGULATORIA         object\n",
       "NUMERO_REGISTRO_PRODUTO        int64\n",
       "DATA_VENCIMENTO_REGISTRO      object\n",
       "NUMERO_PROCESSO                int64\n",
       "CLASSE_TERAPEUTICA            object\n",
       "EMPRESA_DETENTORA_REGISTRO    object\n",
       "SITUACAO_REGISTRO             object\n",
       "PRINCIPIO_ATIVO               object\n",
       "dtype: object"
      ]
     },
     "execution_count": 5,
     "metadata": {},
     "output_type": "execute_result"
    }
   ],
   "source": [
    "df.dtypes"
   ]
  },
  {
   "cell_type": "code",
   "execution_count": 6,
   "id": "add1e14f-15c1-4bf6-afaf-f88d6aca9e10",
   "metadata": {},
   "outputs": [
    {
     "data": {
      "text/plain": [
       "TIPO_PRODUTO                      0\n",
       "NOME_PRODUTO                      0\n",
       "DATA_FINALIZACAO_PROCESSO       398\n",
       "CATEGORIA_REGULATORIA          1877\n",
       "NUMERO_REGISTRO_PRODUTO           0\n",
       "DATA_VENCIMENTO_REGISTRO        615\n",
       "NUMERO_PROCESSO                   0\n",
       "CLASSE_TERAPEUTICA               75\n",
       "EMPRESA_DETENTORA_REGISTRO        0\n",
       "SITUACAO_REGISTRO                 0\n",
       "PRINCIPIO_ATIVO               19644\n",
       "dtype: int64"
      ]
     },
     "execution_count": 6,
     "metadata": {},
     "output_type": "execute_result"
    }
   ],
   "source": [
    "df.isnull().sum()"
   ]
  },
  {
   "cell_type": "code",
   "execution_count": 7,
   "id": "b88eab24-84b8-4778-8b88-076126c77076",
   "metadata": {},
   "outputs": [
    {
     "data": {
      "text/plain": [
       "TIPO_PRODUTO\n",
       "MEDICAMENTO    30725\n",
       "Name: count, dtype: int64"
      ]
     },
     "execution_count": 7,
     "metadata": {},
     "output_type": "execute_result"
    }
   ],
   "source": [
    "df.value_counts('TIPO_PRODUTO')"
   ]
  },
  {
   "cell_type": "code",
   "execution_count": 8,
   "id": "bd5f8c8a-1063-4d41-9aa2-e898810f1620",
   "metadata": {},
   "outputs": [
    {
     "data": {
      "text/plain": [
       "NOME_PRODUTO\n",
       "PARACETAMOL                   154\n",
       "AMOXICILINA                    98\n",
       "ACICLOVIR                      93\n",
       "CETOCONAZOL                    91\n",
       "IBUPROFENO                     72\n",
       "                             ... \n",
       "FLORINY                         1\n",
       "FLORLAX                         1\n",
       "FLOSEAL                         1\n",
       "FLOTAC                          1\n",
       "ÓXIDO DE ZINCO + NISTATINA      1\n",
       "Name: count, Length: 17588, dtype: int64"
      ]
     },
     "execution_count": 8,
     "metadata": {},
     "output_type": "execute_result"
    }
   ],
   "source": [
    "df['NOME_PRODUTO'] = df['NOME_PRODUTO'].str.upper()\n",
    "df.value_counts('NOME_PRODUTO')"
   ]
  },
  {
   "cell_type": "code",
   "execution_count": 9,
   "id": "4e76de04-f320-49fa-88fe-179ebb141f7e",
   "metadata": {},
   "outputs": [
    {
     "data": {
      "text/plain": [
       "NOME_PRODUTO\n",
       "PARACETAMOL                     154\n",
       "AMOXICILINA                      98\n",
       "ACICLOVIR                        93\n",
       "CETOCONAZOL                      91\n",
       "IBUPROFENO                       72\n",
       "NIMESULIDA                       68\n",
       "CAPTOPRIL                        64\n",
       "MEBENDAZOL                       64\n",
       "CLORIDRATO DE CIPROFLOXACINO     62\n",
       "ALBENDAZOL                       60\n",
       "Name: count, dtype: int64"
      ]
     },
     "execution_count": 9,
     "metadata": {},
     "output_type": "execute_result"
    }
   ],
   "source": [
    "df.value_counts('NOME_PRODUTO')[:10]"
   ]
  },
  {
   "cell_type": "code",
   "execution_count": 10,
   "id": "f999bce8-224a-4e4d-ac36-d0bbefdc70cc",
   "metadata": {},
   "outputs": [
    {
     "data": {
      "text/plain": [
       "array([' (VITAMINAS A )  +  ASSSOCIACÕES',\n",
       "       ' AC SALICILICO + AC BENZOICO + IODO', ' ALENDRONATO SODICO', ...,\n",
       "       'AYMEE', 'TOROFAST', 'VIZURIA'], dtype=object)"
      ]
     },
     "execution_count": 10,
     "metadata": {},
     "output_type": "execute_result"
    }
   ],
   "source": [
    "df.NOME_PRODUTO.unique()"
   ]
  },
  {
   "cell_type": "code",
   "execution_count": 11,
   "id": "02241a8a-0107-4b0a-9aae-871f983faaf2",
   "metadata": {},
   "outputs": [
    {
     "data": {
      "text/plain": [
       "TIPO_PRODUTO                                                 MEDICAMENTO\n",
       "NOME_PRODUTO                     ALANTOINA + ACIDO BORICO+OXIDO DE ZINCO\n",
       "DATA_FINALIZACAO_PROCESSO                            1901-01-01 00:00:00\n",
       "CATEGORIA_REGULATORIA                                            SIMILAR\n",
       "NUMERO_REGISTRO_PRODUTO                                        105700004\n",
       "DATA_VENCIMENTO_REGISTRO                                      01/10/2002\n",
       "NUMERO_PROCESSO                                              25001015032\n",
       "CLASSE_TERAPEUTICA            OUTROS PRODUTOS COM ACAO NA PELE E MUCOSAS\n",
       "EMPRESA_DETENTORA_REGISTRO     92782317000145 - LABORATORIO QUIMSUL LTDA\n",
       "SITUACAO_REGISTRO                                       CADUCO/CANCELADO\n",
       "PRINCIPIO_ATIVO                                                      NaN\n",
       "Name: 703, dtype: object"
      ]
     },
     "execution_count": 11,
     "metadata": {},
     "output_type": "execute_result"
    }
   ],
   "source": [
    "df['DATA_FINALIZACAO_PROCESSO'] = pd.to_datetime(df['DATA_FINALIZACAO_PROCESSO'], errors='coerce', dayfirst=True)\n",
    "df.iloc[df['DATA_FINALIZACAO_PROCESSO'].argmin()]"
   ]
  },
  {
   "cell_type": "code",
   "execution_count": 12,
   "id": "53942af4-e0f6-4f39-a29f-7379c1e230f7",
   "metadata": {},
   "outputs": [
    {
     "data": {
      "text/plain": [
       "TIPO_PRODUTO                                                        MEDICAMENTO\n",
       "NOME_PRODUTO                                                          CANEPHRON\n",
       "DATA_FINALIZACAO_PROCESSO                                   2023-08-07 00:00:00\n",
       "CATEGORIA_REGULATORIA                                              FITOTERÁPICO\n",
       "NUMERO_REGISTRO_PRODUTO                                               123420001\n",
       "DATA_VENCIMENTO_REGISTRO                                                    NaN\n",
       "NUMERO_PROCESSO                                                     25351703678\n",
       "CLASSE_TERAPEUTICA                                                          NaN\n",
       "EMPRESA_DETENTORA_REGISTRO    19585186000116 - BIONORICA DO BRASIL DISTRIBUI...\n",
       "SITUACAO_REGISTRO                                                        VÁLIDO\n",
       "PRINCIPIO_ATIVO               CENTAURIUM ERYTHRAEA RAFN +  LEVISTICUM OFFICI...\n",
       "Name: 30691, dtype: object"
      ]
     },
     "execution_count": 12,
     "metadata": {},
     "output_type": "execute_result"
    }
   ],
   "source": [
    "df.iloc[df['DATA_FINALIZACAO_PROCESSO'].argmax()]"
   ]
  },
  {
   "cell_type": "code",
   "execution_count": 13,
   "id": "8667910b-7f53-4874-84e7-2f92edc5f37c",
   "metadata": {},
   "outputs": [
    {
     "data": {
      "text/plain": [
       "TIPO_PRODUTO                                               MEDICAMENTO\n",
       "NOME_PRODUTO                                                    OZONYL\n",
       "DATA_FINALIZACAO_PROCESSO                          1953-05-18 00:00:00\n",
       "CATEGORIA_REGULATORIA                                          SIMILAR\n",
       "NUMERO_REGISTRO_PRODUTO                                      104440115\n",
       "DATA_VENCIMENTO_REGISTRO                           1973-05-01 00:00:00\n",
       "NUMERO_PROCESSO                                            25992004013\n",
       "CLASSE_TERAPEUTICA              PRODUTO P.TERAPIA SINTOMATICA DA GRIPE\n",
       "EMPRESA_DETENTORA_REGISTRO    33145194000172 - LABORATÓRIO GROSS S. A.\n",
       "SITUACAO_REGISTRO                                     CADUCO/CANCELADO\n",
       "PRINCIPIO_ATIVO                                                    NaN\n",
       "Name: 19398, dtype: object"
      ]
     },
     "execution_count": 13,
     "metadata": {},
     "output_type": "execute_result"
    }
   ],
   "source": [
    "df['DATA_VENCIMENTO_REGISTRO'] = pd.to_datetime(df['DATA_VENCIMENTO_REGISTRO'], errors='coerce', dayfirst=True)\n",
    "df.iloc[df['DATA_VENCIMENTO_REGISTRO'].argmin()]"
   ]
  },
  {
   "cell_type": "code",
   "execution_count": 14,
   "id": "7a7a3438-4543-4d94-bce2-f88a2f595b5c",
   "metadata": {},
   "outputs": [
    {
     "data": {
      "text/plain": [
       "TIPO_PRODUTO                                                       MEDICAMENTO\n",
       "NOME_PRODUTO                                                        LAMOSYN CD\n",
       "DATA_FINALIZACAO_PROCESSO                                  2016-09-19 00:00:00\n",
       "CATEGORIA_REGULATORIA                                                  SIMILAR\n",
       "NUMERO_REGISTRO_PRODUTO                                              146820049\n",
       "DATA_VENCIMENTO_REGISTRO                                   2101-09-01 00:00:00\n",
       "NUMERO_PROCESSO                                                    25351721637\n",
       "CLASSE_TERAPEUTICA                                          ANTICONVULSIVANTES\n",
       "EMPRESA_DETENTORA_REGISTRO    05035244000123 - SUN FARMACÊUTICA DO BRASIL LTDA\n",
       "SITUACAO_REGISTRO                                                       VÁLIDO\n",
       "PRINCIPIO_ATIVO                                                    LAMOTRIGINA\n",
       "Name: 14812, dtype: object"
      ]
     },
     "execution_count": 14,
     "metadata": {},
     "output_type": "execute_result"
    }
   ],
   "source": [
    "df.iloc[df['DATA_VENCIMENTO_REGISTRO'].argmax()]"
   ]
  },
  {
   "cell_type": "code",
   "execution_count": 15,
   "id": "983d0442-3235-40e3-b6fb-96b08b23ad4f",
   "metadata": {},
   "outputs": [
    {
     "data": {
      "text/plain": [
       "CATEGORIA_REGULATORIA\n",
       "SIMILAR         14689\n",
       "GENÉRICO         7492\n",
       "NOVO             3022\n",
       "ESPECÍFICO       1377\n",
       "FITOTERÁPICO     1196\n",
       "BIOLÓGICO         746\n",
       "DINAMIZADO        277\n",
       "RADIOFÁRMACO       44\n",
       "PRODUTO DE T        5\n",
       "Name: count, dtype: int64"
      ]
     },
     "execution_count": 15,
     "metadata": {},
     "output_type": "execute_result"
    }
   ],
   "source": [
    "df['CATEGORIA_REGULATORIA'] = df['CATEGORIA_REGULATORIA'].str.upper()\n",
    "df.value_counts('CATEGORIA_REGULATORIA')"
   ]
  },
  {
   "cell_type": "code",
   "execution_count": 16,
   "id": "8854209f-47d3-4821-9412-5e749fbd508d",
   "metadata": {},
   "outputs": [
    {
     "data": {
      "text/plain": [
       "CATEGORIA_REGULATORIA\n",
       "SIMILAR         14689\n",
       "GENÉRICO         7492\n",
       "NOVO             3022\n",
       "ESPECÍFICO       1377\n",
       "FITOTERÁPICO     1196\n",
       "BIOLÓGICO         746\n",
       "DINAMIZADO        277\n",
       "RADIOFÁRMACO       44\n",
       "PRODUTO DE T        5\n",
       "Name: count, dtype: int64"
      ]
     },
     "execution_count": 16,
     "metadata": {},
     "output_type": "execute_result"
    }
   ],
   "source": [
    "df.value_counts('CATEGORIA_REGULATORIA')[:10]"
   ]
  },
  {
   "cell_type": "code",
   "execution_count": 17,
   "id": "89fbf3ee-b46c-4777-ae7c-bb6362e811b2",
   "metadata": {},
   "outputs": [
    {
     "data": {
      "text/plain": [
       "CLASSE_TERAPEUTICA\n",
       "ANTIBIOTICOS SISTEMICOS SIMPLES                           1231\n",
       "ANTINFLAMATORIOS                                           893\n",
       "ANALGESICOS NAO NARCOTICOS                                 855\n",
       "ANTINEOPLASICO                                             736\n",
       "ANTIDEPRESSIVOS                                            730\n",
       "                                                          ... \n",
       "ANTINFECCIOSOS TOPICOS + NITROFURANICOS                      1\n",
       "OUTROS AGENTES HEMATOLÓGICOS                                 1\n",
       "ANTINFECCIOSOS + FITOTERAPICO SIMPLES + IMUNOMODULADOR       1\n",
       "OUTROS AGENTES IMUNOSSUPRESSORES + PIFENIDONA                1\n",
       "4-DIMETILAMINOFENOL + ABÉTIMO                                1\n",
       "Name: count, Length: 689, dtype: int64"
      ]
     },
     "execution_count": 17,
     "metadata": {},
     "output_type": "execute_result"
    }
   ],
   "source": [
    "df['CLASSE_TERAPEUTICA'] = df['CLASSE_TERAPEUTICA'].str.upper()\n",
    "df.value_counts('CLASSE_TERAPEUTICA')"
   ]
  },
  {
   "cell_type": "code",
   "execution_count": 18,
   "id": "79a9c6d3-08b7-4b84-aa53-48540bde9df8",
   "metadata": {},
   "outputs": [
    {
     "data": {
      "text/plain": [
       "CLASSE_TERAPEUTICA\n",
       "ANTIBIOTICOS SISTEMICOS SIMPLES    1231\n",
       "ANTINFLAMATORIOS                    893\n",
       "ANALGESICOS NAO NARCOTICOS          855\n",
       "ANTINEOPLASICO                      736\n",
       "ANTIDEPRESSIVOS                     730\n",
       "ANTI-HIPERTENSIVOS                  635\n",
       "ANTIDIABETICOS                      531\n",
       "ANTICONVULSIVANTES                  501\n",
       "ANTI-HISTAMINICOS SISTEMICOS        493\n",
       "ANTILIPEMICOS                       489\n",
       "Name: count, dtype: int64"
      ]
     },
     "execution_count": 18,
     "metadata": {},
     "output_type": "execute_result"
    }
   ],
   "source": [
    "df.value_counts('CLASSE_TERAPEUTICA')[:10]"
   ]
  },
  {
   "cell_type": "code",
   "execution_count": 19,
   "id": "0c82f61e-929c-458d-b2f6-cef2380fa5b6",
   "metadata": {},
   "outputs": [
    {
     "data": {
      "text/plain": [
       "PRINCIPIO_ATIVO\n",
       "PARACETAMOL                                                                              97\n",
       "IBUPROFENO                                                                               85\n",
       "CETOCONAZOL                                                                              62\n",
       "HEMITARTARATO DE ZOLPIDEM                                                                59\n",
       "COLECALCIFEROL                                                                           56\n",
       "                                                                                         ..\n",
       "CLORIDRATO DE NAFAZOLINA +  FOSFATO DISSÓDICO DE DEXAMETASONA +  SULFATO DE NEOMICINA     1\n",
       "CLORIDRATO DE NAFAZOLINA +  DEXPANTENOL +  MALEATO DE MEPIRAMINA                          1\n",
       "CLORIDRATO DE MITOXANTRONA                                                                1\n",
       "CLORIDRATO DE MINOCICLINA                                                                 1\n",
       "ÓLEO DE PEIXE                                                                             1\n",
       "Name: count, Length: 2469, dtype: int64"
      ]
     },
     "execution_count": 19,
     "metadata": {},
     "output_type": "execute_result"
    }
   ],
   "source": [
    "df['PRINCIPIO_ATIVO'] = df['PRINCIPIO_ATIVO'].str.upper()\n",
    "df.value_counts('PRINCIPIO_ATIVO')"
   ]
  },
  {
   "cell_type": "code",
   "execution_count": 20,
   "id": "6394c079-79ee-4cf2-8379-ecd8188f1911",
   "metadata": {},
   "outputs": [
    {
     "data": {
      "text/plain": [
       "PRINCIPIO_ATIVO\n",
       "PARACETAMOL                  97\n",
       "IBUPROFENO                   85\n",
       "CETOCONAZOL                  62\n",
       "HEMITARTARATO DE ZOLPIDEM    59\n",
       "COLECALCIFEROL               56\n",
       "NIMESULIDA                   54\n",
       "PREGABALINA                  54\n",
       "DESLORATADINA                49\n",
       "ROSUVASTATINA CÁLCICA        48\n",
       "OXALATO DE ESCITALOPRAM      47\n",
       "Name: count, dtype: int64"
      ]
     },
     "execution_count": 20,
     "metadata": {},
     "output_type": "execute_result"
    }
   ],
   "source": [
    "df.value_counts('PRINCIPIO_ATIVO')[:10]"
   ]
  },
  {
   "cell_type": "code",
   "execution_count": 21,
   "id": "edeebc39-6b81-4450-a00e-bd355fff62ea",
   "metadata": {},
   "outputs": [
    {
     "data": {
      "text/plain": [
       "EMPRESA_DETENTORA_REGISTRO\n",
       "EMS S/A                                             1096\n",
       "GERMED FARMACEUTICA LTDA                             862\n",
       "EUROFARMA LABORATÓRIOS S.A.                          845\n",
       "LEGRAND PHARMA INDÚSTRIA FARMACÊUTICA LTDA           681\n",
       "BRAINFARMA INDÚSTRIA QUÍMICA E FARMACÊUTICA S.A      641\n",
       "                                                    ... \n",
       "LABORATORIO LEGRAND LTDA                               1\n",
       "LABORATORIO MESQUITA LTDA                              1\n",
       "BRASIL SUL IND COM LTDA                                1\n",
       "PHARMIS BIOFARMACÊUTICA LTDA                           1\n",
       "CTOB COMÉRCIO DE PRODUTOS MÉDICO HOSPITALAR LTDA       1\n",
       "Name: count, Length: 702, dtype: int64"
      ]
     },
     "execution_count": 21,
     "metadata": {},
     "output_type": "execute_result"
    }
   ],
   "source": [
    "df['EMPRESA_DETENTORA_REGISTRO'] = df['EMPRESA_DETENTORA_REGISTRO'].str[17:]\n",
    "df.value_counts('EMPRESA_DETENTORA_REGISTRO')"
   ]
  },
  {
   "cell_type": "code",
   "execution_count": 22,
   "id": "95663683-0301-43ba-ba8a-ab99192159da",
   "metadata": {},
   "outputs": [
    {
     "data": {
      "text/plain": [
       "EMPRESA_DETENTORA_REGISTRO\n",
       "EMS S/A                                            1096\n",
       "GERMED FARMACEUTICA LTDA                            862\n",
       "EUROFARMA LABORATÓRIOS S.A.                         845\n",
       "LEGRAND PHARMA INDÚSTRIA FARMACÊUTICA LTDA          681\n",
       "BRAINFARMA INDÚSTRIA QUÍMICA E FARMACÊUTICA S.A     641\n",
       "LABORATÓRIO TEUTO BRASILEIRO S/A                    635\n",
       "ACHÉ LABORATÓRIOS FARMACÊUTICOS S.A                 634\n",
       "EMS SIGMA PHARMA LTDA                               569\n",
       "HYPERA S.A.                                         529\n",
       "UNIÃO QUÍMICA FARMACÊUTICA NACIONAL S/A             511\n",
       "Name: count, dtype: int64"
      ]
     },
     "execution_count": 22,
     "metadata": {},
     "output_type": "execute_result"
    }
   ],
   "source": [
    "df.value_counts('EMPRESA_DETENTORA_REGISTRO')[:10]"
   ]
  }
 ],
 "metadata": {
  "kernelspec": {
   "display_name": "Python 3 (ipykernel)",
   "language": "python",
   "name": "python3"
  },
  "language_info": {
   "codemirror_mode": {
    "name": "ipython",
    "version": 3
   },
   "file_extension": ".py",
   "mimetype": "text/x-python",
   "name": "python",
   "nbconvert_exporter": "python",
   "pygments_lexer": "ipython3",
   "version": "3.11.0"
  }
 },
 "nbformat": 4,
 "nbformat_minor": 5
}
